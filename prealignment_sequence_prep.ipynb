{
 "cells": [
  {
   "cell_type": "code",
   "execution_count": null,
   "metadata": {},
   "outputs": [],
   "source": [
    "from Bio import SeqIO\n",
    "import csv\n",
    "import os\n",
    "import pandas as pd\n",
    "from pyfasta import Fasta"
   ]
  },
  {
   "cell_type": "markdown",
   "metadata": {},
   "source": [
    "### 1011 Genomes S. cerevisiae ORFs (Peter, et al. 2018)\n",
    "\n",
    "Write files for each gene with only strains in a given population"
   ]
  },
  {
   "cell_type": "code",
   "execution_count": null,
   "metadata": {},
   "outputs": [],
   "source": [
    "#group Scer strains by population\n",
    "\n",
    "pops = pd.read_csv('/Users/clairedubin/sacc/external_datasets/1011_pops_tableS1.csv', skiprows=3)\n",
    "pops = pops[['Standardized name', 'Clades']].dropna()\n",
    "pops['clade'] = pops['Clades'].str.replace('[^\\w]','')\n",
    "\n",
    "pop_dict = pops.groupby('clade')['Standardized name'].apply(list).to_dict()\n",
    "\n",
    "gene_dict = pops.groupby('Standardized name')['clade'].apply(list).to_dict()"
   ]
  },
  {
   "cell_type": "code",
   "execution_count": 72,
   "metadata": {},
   "outputs": [],
   "source": [
    "#make Scer files by population\n",
    "scer_outpath = '/Users/clairedubin/sacc/carly_genes/alignments/1011pops_unaligned/'\n",
    "all_genes = '/Users/clairedubin/sacc/external_datasets/allReferenceGenesWithSNPsAndIndelsInferred/'\n",
    "\n",
    "for clade in pop_list:\n",
    "    \n",
    "    if not os.path.exists(scer_outpath+clade):\n",
    "        os.mkdir(scer_outpath+clade)\n",
    "        \n",
    "for file in os.listdir(all_genes):\n",
    "    \n",
    "    gene = file.strip('.fasta')\n",
    "    for record in SeqIO.parse(all_genes+file, 'fasta'):\n",
    "        strain = record.description.split('_'+gene)[0]\n",
    "        \n",
    "        if strain not in gene_dict:\n",
    "            continue\n",
    "        \n",
    "        clade = gene_dict[strain][0]\n",
    "        \n",
    "        f = open(scer_outpath+clade+'/'+gene+'.fa', 'a')\n",
    "        f.write('>'+record.description+'\\n'+str(record.seq)+'\\n')\n",
    "        f.close()\n",
    "        "
   ]
  },
  {
   "cell_type": "code",
   "execution_count": 71,
   "metadata": {},
   "outputs": [
    {
     "data": {
      "text/plain": [
       "[]"
      ]
     },
     "execution_count": 71,
     "metadata": {},
     "output_type": "execute_result"
    }
   ],
   "source": [
    "to_remove = []\n",
    "\n",
    "for clade in os.listdir(scer_outpath):\n",
    "    popsize = len(pop_dict[clade])\n",
    "    \n",
    "    for file in os.listdir(scer_outpath+clade):        \n",
    "        if len([r for r in SeqIO.parse(scer_outpath+clade+'/'+file, 'fasta')]) < 0.75*popsize:\n",
    "            to_remove += [scer_outpath+clade+'/'+file]\n",
    "\n",
    "to_remove"
   ]
  },
  {
   "cell_type": "markdown",
   "metadata": {},
   "source": [
    "### S. paradoxus European population - Bergstrom, et al. 2014\n",
    "\n",
    "Write file for each gene using annotations and assemblies"
   ]
  },
  {
   "cell_type": "code",
   "execution_count": 79,
   "metadata": {},
   "outputs": [],
   "source": [
    "#use only European population strains\n",
    "spar_euro_strains = ['Q59.1', \n",
    "                'Z1.1',\n",
    "                'Q95.3',\n",
    "                'S36.7', \n",
    "                'Y9.6', \n",
    "                'W7', \n",
    "                'Y8.5', \n",
    "                'Z1', \n",
    "                'T21.4',\n",
    "                'Y7',\n",
    "                'Y6.5']"
   ]
  },
  {
   "cell_type": "code",
   "execution_count": 91,
   "metadata": {},
   "outputs": [],
   "source": [
    "all_assemblies = '/Users/clairedubin/sacc/external_datasets/SGRP2-assemblies_Jun25/'\n",
    "all_annotations = '/Users/clairedubin/sacc/external_datasets/orf-annotation-gffs-SGRP2_Jun25/'\n",
    "spar_annotartions = '/Users/clairedubin/sacc/external_datasets/Spar.gff.txt'\n",
    "\n",
    "euro_spar_output_dir = '/Users/clairedubin/sacc/carly_genes/alignments/BergstromSpar_ORFs_unaligned/'\n",
    "\n",
    "#map genes to homologs\n",
    "gene_dict = {}\n",
    "spar_annotations = '/Users/clairedubin/sacc/external_datasets/Spar.gff.txt'\n",
    "\n",
    "f = open(spar_annotations, 'r')\n",
    "for line in f.readlines():\n",
    "    gene = line.split('SGD=')[1].split(';')[0]\n",
    "    homolog = line.split('Gene=')[1].split(';')[0]\n",
    "    gene_dict[homolog] = gene\n",
    "f.close()    \n",
    "    \n",
    "for file in os.listdir(all_annotations):\n",
    "    \n",
    "    if '_Sc_' in file:\n",
    "        continue\n",
    "    \n",
    "    suffix = file.split('orf-annotation_')[1][:-4]\n",
    "    strain = suffix.split('_Sp_')[1].strip('SGRP2-assembly.gff')\n",
    "    \n",
    "    if strain in spar_euro_strains:\n",
    "        f = open(all_annotations+file, 'r')\n",
    "        annotation_dict = {}\n",
    "        for i, line in enumerate(f.readlines()):  \n",
    "            homolog = line.split('homolog=')[1].strip('\\n')\n",
    "            if homolog in gene_dict and gene_dict[homolog]:\n",
    "                gene = gene_dict[homolog]\n",
    "                split = line.split('\\t')\n",
    "                scaff, start, stop, direction = split[0], split[3], split[4], split[6]\n",
    "                annotation_dict[gene] = [scaff, start, stop, direction]   \n",
    "        f.close()\n",
    "                \n",
    "        f=Fasta(all_assemblies+suffix+'.fa')   \n",
    "        for gene in annotation_dict:            \n",
    "            chrom, start, stop, direction = annotation_dict[gene]\n",
    "            seq = f.sequence({'chr': chrom, 'start': int(start), 'stop': int(stop), 'strand': direction})\n",
    "            to_write = '>' + gene + '_Sp_' + strain + '\\n' + seq + '\\n'\n",
    "\n",
    "            if len(seq) > 50:\n",
    "                newfile=open(euro_spar_output_dir+gene+'.fa', 'a')\n",
    "                newfile.write(to_write)\n",
    "                newfile.close()\n"
   ]
  },
  {
   "cell_type": "markdown",
   "metadata": {},
   "source": [
    "### S. paradoxus North American subpopulation B - Durand, et al. 2019\n",
    "\n",
    "Write file for each gene based on assemblies and annotations for strains in subpopulation B (largest subpop)"
   ]
  },
  {
   "cell_type": "code",
   "execution_count": 92,
   "metadata": {},
   "outputs": [
    {
     "data": {
      "text/plain": [
       "{'SpA': ['A01', 'B01', 'C01', 'B02', 'D01'],\n",
       " 'SpB': ['B06', 'D06', 'C05', 'C04', 'D04', 'D05', 'B05', 'A05', 'C06', 'A06'],\n",
       " 'SpC': ['C03', 'A04', 'B03', 'B04', 'A03', 'A02', 'D02', 'D03', 'C02']}"
      ]
     },
     "execution_count": 92,
     "metadata": {},
     "output_type": "execute_result"
    }
   ],
   "source": [
    "#parse populations\n",
    "pop_info = '/Users/clairedubin/sacc/external_datasets/durand_spar_NA_raw/infos_lib.txt'\n",
    "\n",
    "NA_spar_pops = {'SpA':[], 'SpB':[], 'SpC': []}\n",
    "\n",
    "f = open(pop_info, 'r')\n",
    "for line in f.readlines():\n",
    "    if 'SpA' in line:\n",
    "        NA_spar_pops['SpA'] += [line.split('\\t')[1].replace('S','')]\n",
    "    elif 'SpB' in line:\n",
    "        NA_spar_pops['SpB'] += [line.split('\\t')[1].replace('S','')]\n",
    "    elif 'SpC' in line:\n",
    "        NA_spar_pops['SpC'] += [line.split('\\t')[1].replace('S','')]\n",
    "        \n",
    "NA_spar_pops"
   ]
  },
  {
   "cell_type": "code",
   "execution_count": 94,
   "metadata": {},
   "outputs": [],
   "source": [
    "NA_spar_output_dir = '/Users/clairedubin/sacc/carly_genes/alignments/DurandSparB_ORFs_unaligned/'\n",
    "all_assemblies = '/Users/clairedubin/sacc/external_datasets/durand_spar_NA_raw/fasta_genomes/'\n",
    "all_annotations = '/Users/clairedubin/sacc/external_datasets/durand_spar_NA_raw/gff_genes/1_gff_genes_coord/'\n",
    "\n",
    "for strain in [i for i in os.listdir(all_annotations) if i.split('_')[0] in NA_spar_pops['SpB']]:\n",
    "\n",
    "    f = open(all_annotations+strain, 'r')\n",
    "    annotation_dict = {}\n",
    "\n",
    "    for i, line in enumerate(f.readlines()):\n",
    "        if 'gene' in line:\n",
    "            gene = line.split('gene_id=')[1].strip('\\n')\n",
    "            if 'unknown' in gene: \n",
    "                continue\n",
    "            split = line.split('\\t')\n",
    "            scaff, start, stop, direction = split[0], split[3], split[4], split[6]\n",
    "            annotation_dict[gene] = [scaff, start, stop, direction]\n",
    "    f.close()\n",
    "\n",
    "    strain = strain.strip('_genes_aug.gff')\n",
    "    f=Fasta(all_assemblies+strain+'_genome_200.fasta')       \n",
    "\n",
    "    for gene in annotation_dict:\n",
    "        chrom, start, stop, direction = annotation_dict[gene]\n",
    "        seq = f.sequence({'chr': chrom, 'start': int(start), 'stop': int(stop), 'strand': direction})\n",
    "\n",
    "        to_write ='>' + gene + '_Sp_' + strain + '\\n' + seq + '\\n'\n",
    "\n",
    "        if len(seq) > 50:\n",
    "            newfile=open(NA_spar_output_dir+gene+'.fa', \"a\")\n",
    "            newfile.write(to_write)\n",
    "            newfile.close()\n"
   ]
  },
  {
   "cell_type": "markdown",
   "metadata": {},
   "source": [
    "### Merging S. paradoxus European population with each S. cerevisiae population"
   ]
  },
  {
   "cell_type": "code",
   "execution_count": 97,
   "metadata": {},
   "outputs": [],
   "source": [
    "scer_eurospar_outdir = '/Users/clairedubin/sacc/carly_genes/alignments/1011pops_EuroSpar_unaligned/'\n",
    "\n",
    "for clade in pop_dict:\n",
    "        \n",
    "    if not os.path.exists(scer_eurospar_outdir+clade):\n",
    "        os.mkdir(scer_eurospar_outdir+clade)\n",
    "    \n",
    "    for file in os.listdir(scer_outpath+clade):\n",
    "        \n",
    "        if os.path.exists(euro_spar_output_dir+file):\n",
    "                        \n",
    "            sp = open(euro_spar_output_dir+file, 'r')\n",
    "            sp_data = sp.read()\n",
    "            sp.close()\n",
    "            \n",
    "            sc = open(scer_outpath+clade+'/'+file, 'r')\n",
    "            sc_data = sc.read()\n",
    "            sc.close()\n",
    "            \n",
    "            sc_sp = open(scer_eurospar_outdir+clade+'/'+file, 'a')\n",
    "            sc_sp.write(sc_data)\n",
    "            sc_sp.write(sp_data)\n",
    "            sc_sp.close()        "
   ]
  },
  {
   "cell_type": "markdown",
   "metadata": {},
   "source": [
    "### Merging S. paradoxus North American population with each S. cerevisiae population"
   ]
  },
  {
   "cell_type": "code",
   "execution_count": 98,
   "metadata": {},
   "outputs": [],
   "source": [
    "scer_NAspar_outdir = '/Users/clairedubin/sacc/carly_genes/alignments/1011pops_NASpar_unaligned/'\n",
    "\n",
    "for clade in pop_dict:\n",
    "        \n",
    "    if not os.path.exists(scer_NAspar_outdir+clade):\n",
    "        os.mkdir(scer_NAspar_outdir+clade)\n",
    "    \n",
    "    for file in os.listdir(scer_outpath+clade):\n",
    "        \n",
    "        if os.path.exists(NA_spar_output_dir+file):\n",
    "                        \n",
    "            sp = open(NA_spar_output_dir+file, 'r')\n",
    "            sp_data = sp.read()\n",
    "            sp.close()\n",
    "            \n",
    "            sc = open(scer_outpath+clade+'/'+file, 'r')\n",
    "            sc_data = sc.read()\n",
    "            sc.close()\n",
    "            \n",
    "            sc_sp = open(scer_NAspar_outdir+clade+'/'+file, 'a')\n",
    "            sc_sp.write(sc_data)\n",
    "            sc_sp.write(sp_data)\n",
    "            sc_sp.close()   "
   ]
  },
  {
   "cell_type": "code",
   "execution_count": null,
   "metadata": {},
   "outputs": [],
   "source": []
  }
 ],
 "metadata": {
  "kernelspec": {
   "display_name": "py3",
   "language": "python",
   "name": "py3"
  },
  "language_info": {
   "codemirror_mode": {
    "name": "ipython",
    "version": 3
   },
   "file_extension": ".py",
   "mimetype": "text/x-python",
   "name": "python",
   "nbconvert_exporter": "python",
   "pygments_lexer": "ipython3",
   "version": "3.8.5"
  }
 },
 "nbformat": 4,
 "nbformat_minor": 4
}
