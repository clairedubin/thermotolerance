{
 "cells": [
  {
   "cell_type": "markdown",
   "metadata": {},
   "source": [
    "**Calculate Dxy p values using a resampling test all S. cerevisiae strains (Peter et al., 2018) and European S. paradoxus (Bergstrom et al., 2014) + North American S. paradoxus subpopulation B (Durand et al., 2019).**"
   ]
  },
  {
   "cell_type": "code",
   "execution_count": 7,
   "metadata": {},
   "outputs": [],
   "source": [
    "import pandas as pd\n",
    "import numpy as np\n",
    "import csv\n",
    "from resample import resample_med"
   ]
  },
  {
   "cell_type": "code",
   "execution_count": 8,
   "metadata": {},
   "outputs": [],
   "source": [
    "#essential genes - from Winzeler et al., 1999\n",
    "essential = pd.read_csv('/Users/clairedubin/sacc/external_datasets/essential.csv', header=None)\n",
    "essential[1] = essential[1].str.strip('\\t')\n",
    "essential_genes = [i.split(' ')[0] for i in essential[1]]"
   ]
  },
  {
   "cell_type": "code",
   "execution_count": 9,
   "metadata": {},
   "outputs": [],
   "source": [
    "gene_dict = {'YLR397C':'AFG2',\n",
    "             'YGR098C':'ESP1',\n",
    "             'YMR168C':'CEP3',\n",
    "             'YKR054C': 'DYN1',\n",
    "             'YHR023W':'MYO1',\n",
    "             'YDR180W':'SCC2',\n",
    "             'YPL174C':'NIP100',\n",
    "             'YCR042C': 'TAF2',\n",
    "             'YMR016C':'SOK2',\n",
    "             'YJR135C':'MCM22',\n",
    "             'YJL025W':'RRN7',\n",
    "             'YDR443C':'SSN2',\n",
    "             'YKL134C':'OCT1',\n",
    "            'YPR164W':'MMS1'}"
   ]
  },
  {
   "cell_type": "code",
   "execution_count": 13,
   "metadata": {},
   "outputs": [
    {
     "data": {
      "text/html": [
       "<div>\n",
       "<style scoped>\n",
       "    .dataframe tbody tr th:only-of-type {\n",
       "        vertical-align: middle;\n",
       "    }\n",
       "\n",
       "    .dataframe tbody tr th {\n",
       "        vertical-align: top;\n",
       "    }\n",
       "\n",
       "    .dataframe thead th {\n",
       "        text-align: right;\n",
       "    }\n",
       "</style>\n",
       "<table border=\"1\" class=\"dataframe\">\n",
       "  <thead>\n",
       "    <tr style=\"text-align: right;\">\n",
       "      <th></th>\n",
       "      <th>gene</th>\n",
       "      <th>dxy</th>\n",
       "      <th>spar_strain_count</th>\n",
       "      <th>scer_strain_count</th>\n",
       "    </tr>\n",
       "  </thead>\n",
       "  <tbody>\n",
       "    <tr>\n",
       "      <th>0</th>\n",
       "      <td>YAL033W</td>\n",
       "      <td>0.074739</td>\n",
       "      <td>20</td>\n",
       "      <td>1011</td>\n",
       "    </tr>\n",
       "    <tr>\n",
       "      <th>1</th>\n",
       "      <td>YAL008W</td>\n",
       "      <td>0.114887</td>\n",
       "      <td>20</td>\n",
       "      <td>1011</td>\n",
       "    </tr>\n",
       "    <tr>\n",
       "      <th>2</th>\n",
       "      <td>YAL007C</td>\n",
       "      <td>0.075005</td>\n",
       "      <td>19</td>\n",
       "      <td>1011</td>\n",
       "    </tr>\n",
       "    <tr>\n",
       "      <th>3</th>\n",
       "      <td>YAL009W</td>\n",
       "      <td>0.066264</td>\n",
       "      <td>20</td>\n",
       "      <td>1011</td>\n",
       "    </tr>\n",
       "    <tr>\n",
       "      <th>4</th>\n",
       "      <td>YAL027W</td>\n",
       "      <td>0.118562</td>\n",
       "      <td>19</td>\n",
       "      <td>1011</td>\n",
       "    </tr>\n",
       "  </tbody>\n",
       "</table>\n",
       "</div>"
      ],
      "text/plain": [
       "      gene       dxy  spar_strain_count  scer_strain_count\n",
       "0  YAL033W  0.074739                 20               1011\n",
       "1  YAL008W  0.114887                 20               1011\n",
       "2  YAL007C  0.075005                 19               1011\n",
       "3  YAL009W  0.066264                 20               1011\n",
       "4  YAL027W  0.118562                 19               1011"
      ]
     },
     "execution_count": 13,
     "metadata": {},
     "output_type": "execute_result"
    }
   ],
   "source": [
    "#load raw dxy data\n",
    "\n",
    "df = pd.read_csv('/Users/clairedubin/sacc/carly_genes/dxy_allScer_allSpar.csv', header=None)\n",
    "df.columns = ['gene', 'dxy', 'spar_strain_count', 'scer_strain_count']\n",
    "df['gene'] = df['gene'].str.strip('sacc/1011Scer_allSpar_aligned/').str.strip('.muscle_afa')\n",
    "df.head()"
   ]
  },
  {
   "cell_type": "code",
   "execution_count": 15,
   "metadata": {},
   "outputs": [
    {
     "data": {
      "text/plain": [
       "(4233, 4)"
      ]
     },
     "execution_count": 15,
     "metadata": {},
     "output_type": "execute_result"
    }
   ],
   "source": [
    "#drop any rows where strain counts are less than 75% of the total strains for the species\n",
    "\n",
    "df = df[(df['spar_strain_count']>=20*.75) & (df['scer_strain_count']>=1011*.75)]\n",
    "df.shape"
   ]
  },
  {
   "cell_type": "code",
   "execution_count": 11,
   "metadata": {
    "scrolled": false
   },
   "outputs": [
    {
     "name": "stdout",
     "output_type": "stream",
     "text": [
      "candidate gene median dxy: 0.1215410983310287\n",
      "essential count: 5; nonessential_count: 8\n",
      "resampling pool size: 4233\n",
      "p = 0.0056\n"
     ]
    },
    {
     "data": {
      "image/png": "[encoded data removed]",
      "text/plain": [
       "<Figure size 360x360 with 1 Axes>"
      ]
     },
     "metadata": {
      "needs_background": "light"
     },
     "output_type": "display_data"
    }
   ],
   "source": [
    "np.random.seed(1)\n",
    "\n",
    "candidates = df[df['gene'].isin(gene_dict.keys())]\n",
    "\n",
    "p = resample_med(candidates, df, 'dxy', essential_genes, direction='greater_than', graph=True)"
   ]
  },
  {
   "cell_type": "code",
   "execution_count": 12,
   "metadata": {},
   "outputs": [
    {
     "data": {
      "text/plain": [
       "0.1015970149998918"
      ]
     },
     "execution_count": 12,
     "metadata": {},
     "output_type": "execute_result"
    }
   ],
   "source": [
    "df['dxy'].median()"
   ]
  }
 ],
 "metadata": {
  "kernelspec": {
   "display_name": "py3",
   "language": "python",
   "name": "py3"
  },
  "language_info": {
   "codemirror_mode": {
    "name": "ipython",
    "version": 3
   },
   "file_extension": ".py",
   "mimetype": "text/x-python",
   "name": "python",
   "nbconvert_exporter": "python",
   "pygments_lexer": "ipython3",
   "version": "3.8.5"
  }
 },
 "nbformat": 4,
 "nbformat_minor": 4
}
