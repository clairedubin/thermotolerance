{
 "cells": [
  {
   "cell_type": "code",
   "execution_count": 1,
   "metadata": {},
   "outputs": [],
   "source": [
    "import matplotlib as mpl\n",
    "import matplotlib.pyplot as plt\n",
    "import numpy as np\n",
    "import pandas as pd\n",
    "import os"
   ]
  },
  {
   "cell_type": "code",
   "execution_count": null,
   "metadata": {},
   "outputs": [],
   "source": [
    "#scer annotations from http://www.saccharomycessensustricto.org/current/Scer/Scer.gff\n",
    "\n",
    "gff = '/Users/clairedubin/sacc/external_datasets/Scer.gff.txt'\n",
    "\n",
    "annotation_dict = {}\n",
    "\n",
    "for line in open(gff, 'r').readlines():\n",
    "    \n",
    "    if 'CDS' not in line:\n",
    "        \n",
    "        continue\n",
    "        \n",
    "    gene = line.split('SGD=')[1].split(';')[0]\n",
    "    chrom, start, stop, direction = line.split('\\t')[0], line.split('\\t')[3], line.split('\\t')[4], line.split('\\t')[6]\n",
    "    \n",
    "    annotation_dict[gene] = [int(chrom), int(start), int(stop), direction]\n",
    "        "
   ]
  },
  {
   "cell_type": "code",
   "execution_count": 4,
   "metadata": {},
   "outputs": [],
   "source": [
    "#parsing function from melanie\n",
    "def ParseG1(g1_file):\n",
    "    '''\n",
    "    Input: outfile from sweepfinder 2\n",
    "    Output: \n",
    "    '''\n",
    "    pos_list=[]\n",
    "    G1_list=[]\n",
    "    ratioG2G1_list=[]\n",
    "    g_dict = {}\n",
    "        \n",
    "    #add position and values for each base to a dictionary for that chromosome\n",
    "    f = open(g1_file)\n",
    "    next(f)\n",
    "    for line in f:\n",
    "        row_data = line.strip().split(\"\\t\")\n",
    "        peak_ctr=int(row_data[0])\n",
    "\n",
    "        g_dict[peak_ctr] = float(row_data[6])\n",
    " \n",
    "    f.close()\n",
    "    return g_dict"
   ]
  },
  {
   "cell_type": "code",
   "execution_count": 5,
   "metadata": {},
   "outputs": [],
   "source": [
    "def make_df(all_g1):\n",
    "\n",
    "    for _,i in enumerate(all_g1):\n",
    "        if _==0:\n",
    "            df = pd.DataFrame.from_dict(all_g1[i], orient='index', columns=['G1'])\n",
    "            df['chrom'] = [i for _ in all_g1[i].keys()]\n",
    "        else:\n",
    "            temp = pd.DataFrame.from_dict(all_g1[i], orient='index', columns=['G1'])\n",
    "            temp['chrom'] = [i for _ in all_g1[i].keys()]\n",
    "            df = df.append(temp)\n",
    "            \n",
    "    return df.reset_index().rename(columns={'index':'pos'})"
   ]
  },
  {
   "cell_type": "code",
   "execution_count": 10,
   "metadata": {},
   "outputs": [],
   "source": [
    "#graphs for ORFs +/- 3kb\n",
    "\n",
    "\n",
    "\n",
    "def make_g1_plot(g1, genes, title=None):\n",
    "    plt.rcParams['savefig.facecolor']='white'\n",
    "\n",
    "    fig = plt.figure(figsize=(15, len(genes)*5))\n",
    "    fig.subplots_adjust(hspace=0.8, wspace=0.4)\n",
    "\n",
    "    for _, gene in enumerate(genes):\n",
    "\n",
    "        fig = plt.figure(figsize=(15, 5))\n",
    "\n",
    "        chrom, start, stop, direction = annotation_dict[gene]\n",
    "\n",
    "        locs = g1[(g1['chrom']==int(chrom)) & g1['pos'].isin(range(int(start)-3000,int(stop)+3000))]\n",
    "        locs = locs[locs['G1'] > 0]\n",
    "\n",
    "        #G1 plotting\n",
    "        ax = fig.subplots()\n",
    "        ax.scatter(locs['pos'].astype(int),locs['G1'],color='blue',s=10)\n",
    "        ax.set_xlabel('Position on chromosome '+str(chrom), fontname=\"Arial\", fontsize=18)\n",
    "        ax.set_ylabel('G1', fontname=\"Arial\", fontsize=18)\n",
    "        ax.tick_params(axis='both', which='major', labelsize=16)\n",
    "        \n",
    "        padding = (locs['G1'].max()-locs['G1'].min())/10\n",
    "\n",
    "        ax.set_ylim(locs['G1'].min()-padding, locs['G1'].max()+padding)\n",
    "        \n",
    "\n",
    "        #ORF bar plotting\n",
    "        height = padding/4\n",
    "\n",
    "        orf = mpl.patches.Rectangle((start, locs['G1'].min()-padding), \n",
    "                                         stop-start, height, color ='black')        \n",
    "        \n",
    "        right = mpl.patches.Rectangle((stop,locs['G1'].min()-padding), \n",
    "                                         3000, height, color ='lightgray')\n",
    "        left = mpl.patches.Rectangle((start-3000, locs['G1'].min()-padding), \n",
    "                                         3000, height, color ='lightgray')       \n",
    "        ax.add_patch(orf)\n",
    "        ax.add_patch(right)\n",
    "        ax.add_patch(left)\n",
    "        \n",
    "#         if not title:\n",
    "#             plt.title(gene, fontsize=16)\n",
    "            \n",
    "#         else:\n",
    "#             plt.title(title, fontsize=16)\n",
    "\n",
    "        fig.savefig('/Users/clairedubin/Desktop/{}_g1_plot_bigwindows.png'.format(title),format='png')\n"
   ]
  },
  {
   "cell_type": "code",
   "execution_count": 11,
   "metadata": {
    "scrolled": false
   },
   "outputs": [
    {
     "data": {
      "text/plain": [
       "<Figure size 1080x360 with 0 Axes>"
      ]
     },
     "metadata": {},
     "output_type": "display_data"
    },
    {
     "data": {
      "image/png": "[encoded data removed]",
      "text/plain": [
       "<Figure size 1080x360 with 1 Axes>"
      ]
     },
     "metadata": {
      "needs_background": "light"
     },
     "output_type": "display_data"
    },
    {
     "data": {
      "text/plain": [
       "<Figure size 1080x360 with 0 Axes>"
      ]
     },
     "metadata": {},
     "output_type": "display_data"
    },
    {
     "data": {
      "image/png": "[encoded data removed]",
      "text/plain": [
       "<Figure size 1080x360 with 1 Axes>"
      ]
     },
     "metadata": {
      "needs_background": "light"
     },
     "output_type": "display_data"
    },
    {
     "data": {
      "text/plain": [
       "<Figure size 1080x360 with 0 Axes>"
      ]
     },
     "metadata": {},
     "output_type": "display_data"
    },
    {
     "data": {
      "image/png": "[encoded data removed]",
      "text/plain": [
       "<Figure size 1080x360 with 1 Axes>"
      ]
     },
     "metadata": {
      "needs_background": "light"
     },
     "output_type": "display_data"
    },
    {
     "data": {
      "text/plain": [
       "<Figure size 1080x360 with 0 Axes>"
      ]
     },
     "metadata": {},
     "output_type": "display_data"
    },
    {
     "data": {
      "image/png": "[encoded data removed]",
      "text/plain": [
       "<Figure size 1080x360 with 1 Axes>"
      ]
     },
     "metadata": {
      "needs_background": "light"
     },
     "output_type": "display_data"
    },
    {
     "data": {
      "text/plain": [
       "<Figure size 1080x360 with 0 Axes>"
      ]
     },
     "metadata": {},
     "output_type": "display_data"
    },
    {
     "data": {
      "image/png": "[encoded data removed]",
      "text/plain": [
       "<Figure size 1080x360 with 1 Axes>"
      ]
     },
     "metadata": {
      "needs_background": "light"
     },
     "output_type": "display_data"
    }
   ],
   "source": [
    "all_g1 = {}\n",
    "\n",
    "g1_dir = 'G1_data/'\n",
    "\n",
    "for popdir in os.listdir(g1_dir):\n",
    "    \n",
    "    if popdir[-3:] == '_G1':\n",
    "        \n",
    "        pop = popdir[:-3]\n",
    "\n",
    "        for chrom in range(1,17):\n",
    "            \n",
    "            all_g1[chrom] = ParseG1('G1_data/{}/merged_{}_chromosome{}.h12_h2h1'.format(popdir, pop, str(chrom)))\n",
    "            \n",
    "        g1 = make_df(all_g1)\n",
    "        \n",
    "        make_g1_plot(g1, ['YGR098C'], title=pop+'_ESP1')\n",
    "        "
   ]
  },
  {
   "cell_type": "code",
   "execution_count": 76,
   "metadata": {},
   "outputs": [
    {
     "data": {
      "text/html": [
       "<div>\n",
       "<style scoped>\n",
       "    .dataframe tbody tr th:only-of-type {\n",
       "        vertical-align: middle;\n",
       "    }\n",
       "\n",
       "    .dataframe tbody tr th {\n",
       "        vertical-align: top;\n",
       "    }\n",
       "\n",
       "    .dataframe thead th {\n",
       "        text-align: right;\n",
       "    }\n",
       "</style>\n",
       "<table border=\"1\" class=\"dataframe\">\n",
       "  <thead>\n",
       "    <tr style=\"text-align: right;\">\n",
       "      <th></th>\n",
       "      <th>pos</th>\n",
       "      <th>G1</th>\n",
       "      <th>chrom</th>\n",
       "    </tr>\n",
       "  </thead>\n",
       "  <tbody>\n",
       "    <tr>\n",
       "      <th>3564</th>\n",
       "      <td>682674</td>\n",
       "      <td>0.047236</td>\n",
       "      <td>7</td>\n",
       "    </tr>\n",
       "    <tr>\n",
       "      <th>3565</th>\n",
       "      <td>682979</td>\n",
       "      <td>0.047251</td>\n",
       "      <td>7</td>\n",
       "    </tr>\n",
       "    <tr>\n",
       "      <th>3566</th>\n",
       "      <td>683164</td>\n",
       "      <td>0.057401</td>\n",
       "      <td>7</td>\n",
       "    </tr>\n",
       "    <tr>\n",
       "      <th>3567</th>\n",
       "      <td>683423</td>\n",
       "      <td>0.057645</td>\n",
       "      <td>7</td>\n",
       "    </tr>\n",
       "    <tr>\n",
       "      <th>3568</th>\n",
       "      <td>683583</td>\n",
       "      <td>0.062361</td>\n",
       "      <td>7</td>\n",
       "    </tr>\n",
       "    <tr>\n",
       "      <th>3569</th>\n",
       "      <td>683798</td>\n",
       "      <td>0.063551</td>\n",
       "      <td>7</td>\n",
       "    </tr>\n",
       "    <tr>\n",
       "      <th>3570</th>\n",
       "      <td>683957</td>\n",
       "      <td>0.063551</td>\n",
       "      <td>7</td>\n",
       "    </tr>\n",
       "    <tr>\n",
       "      <th>3571</th>\n",
       "      <td>684150</td>\n",
       "      <td>0.063658</td>\n",
       "      <td>7</td>\n",
       "    </tr>\n",
       "    <tr>\n",
       "      <th>3572</th>\n",
       "      <td>684376</td>\n",
       "      <td>0.067397</td>\n",
       "      <td>7</td>\n",
       "    </tr>\n",
       "    <tr>\n",
       "      <th>3573</th>\n",
       "      <td>684592</td>\n",
       "      <td>0.067367</td>\n",
       "      <td>7</td>\n",
       "    </tr>\n",
       "    <tr>\n",
       "      <th>3574</th>\n",
       "      <td>684710</td>\n",
       "      <td>0.070999</td>\n",
       "      <td>7</td>\n",
       "    </tr>\n",
       "    <tr>\n",
       "      <th>3575</th>\n",
       "      <td>684891</td>\n",
       "      <td>0.070984</td>\n",
       "      <td>7</td>\n",
       "    </tr>\n",
       "    <tr>\n",
       "      <th>3576</th>\n",
       "      <td>685077</td>\n",
       "      <td>0.071228</td>\n",
       "      <td>7</td>\n",
       "    </tr>\n",
       "    <tr>\n",
       "      <th>3577</th>\n",
       "      <td>685260</td>\n",
       "      <td>0.071197</td>\n",
       "      <td>7</td>\n",
       "    </tr>\n",
       "    <tr>\n",
       "      <th>3578</th>\n",
       "      <td>685363</td>\n",
       "      <td>0.072586</td>\n",
       "      <td>7</td>\n",
       "    </tr>\n",
       "    <tr>\n",
       "      <th>3579</th>\n",
       "      <td>685542</td>\n",
       "      <td>0.076722</td>\n",
       "      <td>7</td>\n",
       "    </tr>\n",
       "    <tr>\n",
       "      <th>3580</th>\n",
       "      <td>685699</td>\n",
       "      <td>0.075623</td>\n",
       "      <td>7</td>\n",
       "    </tr>\n",
       "    <tr>\n",
       "      <th>3581</th>\n",
       "      <td>685899</td>\n",
       "      <td>0.131269</td>\n",
       "      <td>7</td>\n",
       "    </tr>\n",
       "    <tr>\n",
       "      <th>3582</th>\n",
       "      <td>686069</td>\n",
       "      <td>0.131162</td>\n",
       "      <td>7</td>\n",
       "    </tr>\n",
       "    <tr>\n",
       "      <th>3583</th>\n",
       "      <td>686266</td>\n",
       "      <td>0.127377</td>\n",
       "      <td>7</td>\n",
       "    </tr>\n",
       "    <tr>\n",
       "      <th>3584</th>\n",
       "      <td>686434</td>\n",
       "      <td>0.131070</td>\n",
       "      <td>7</td>\n",
       "    </tr>\n",
       "    <tr>\n",
       "      <th>3585</th>\n",
       "      <td>686564</td>\n",
       "      <td>0.136931</td>\n",
       "      <td>7</td>\n",
       "    </tr>\n",
       "    <tr>\n",
       "      <th>3586</th>\n",
       "      <td>686712</td>\n",
       "      <td>0.140945</td>\n",
       "      <td>7</td>\n",
       "    </tr>\n",
       "    <tr>\n",
       "      <th>3587</th>\n",
       "      <td>686921</td>\n",
       "      <td>0.131513</td>\n",
       "      <td>7</td>\n",
       "    </tr>\n",
       "    <tr>\n",
       "      <th>3588</th>\n",
       "      <td>687103</td>\n",
       "      <td>0.153841</td>\n",
       "      <td>7</td>\n",
       "    </tr>\n",
       "    <tr>\n",
       "      <th>3589</th>\n",
       "      <td>687304</td>\n",
       "      <td>0.151567</td>\n",
       "      <td>7</td>\n",
       "    </tr>\n",
       "  </tbody>\n",
       "</table>\n",
       "</div>"
      ],
      "text/plain": [
       "         pos        G1  chrom\n",
       "3564  682674  0.047236      7\n",
       "3565  682979  0.047251      7\n",
       "3566  683164  0.057401      7\n",
       "3567  683423  0.057645      7\n",
       "3568  683583  0.062361      7\n",
       "3569  683798  0.063551      7\n",
       "3570  683957  0.063551      7\n",
       "3571  684150  0.063658      7\n",
       "3572  684376  0.067397      7\n",
       "3573  684592  0.067367      7\n",
       "3574  684710  0.070999      7\n",
       "3575  684891  0.070984      7\n",
       "3576  685077  0.071228      7\n",
       "3577  685260  0.071197      7\n",
       "3578  685363  0.072586      7\n",
       "3579  685542  0.076722      7\n",
       "3580  685699  0.075623      7\n",
       "3581  685899  0.131269      7\n",
       "3582  686069  0.131162      7\n",
       "3583  686266  0.127377      7\n",
       "3584  686434  0.131070      7\n",
       "3585  686564  0.136931      7\n",
       "3586  686712  0.140945      7\n",
       "3587  686921  0.131513      7\n",
       "3588  687103  0.153841      7\n",
       "3589  687304  0.151567      7"
      ]
     },
     "execution_count": 76,
     "metadata": {},
     "output_type": "execute_result"
    }
   ],
   "source": [
    "#get loci to use in haplotype heat map\n",
    "\n",
    "temp_dict = {}\n",
    "\n",
    "temp_dict[7] = ParseG1('/Users/clairedubin/sacc/carly_genes/G1_data/1WineEuropean_G1/merged_1WineEuropean_chromosome7.h12_h2h1')\n",
    "    \n",
    "chrom7_g1 = make_df(temp_dict)\n",
    "\n",
    "chrom, start, stop, direction = annotation_dict['YGR098C']\n",
    "\n",
    "locs = chrom7_g1[(chrom7_g1['chrom']==int(chrom)) & chrom7_g1['pos'].isin(range(int(start),int(stop)))]\n",
    "locs = locs[locs['G1'] > 0]\n",
    "locs"
   ]
  },
  {
   "cell_type": "code",
   "execution_count": 77,
   "metadata": {},
   "outputs": [],
   "source": [
    "locs.to_csv('/Users/clairedubin/sacc/carly_genes/ESP1_G1_loci.csv')"
   ]
  }
 ],
 "metadata": {
  "kernelspec": {
   "display_name": "py3",
   "language": "python",
   "name": "py3"
  },
  "language_info": {
   "codemirror_mode": {
    "name": "ipython",
    "version": 3
   },
   "file_extension": ".py",
   "mimetype": "text/x-python",
   "name": "python",
   "nbconvert_exporter": "python",
   "pygments_lexer": "ipython3",
   "version": "3.8.5"
  }
 },
 "nbformat": 4,
 "nbformat_minor": 4
}
