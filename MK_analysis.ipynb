{
 "cells": [
  {
   "cell_type": "markdown",
   "id": "powerful-joyce",
   "metadata": {},
   "source": [
    "**Resample McDonald Kreitman statistics generated in MK_calc.ipynb.**\n",
    "\n",
    "Analysis includes all Scer strains (Peter, et al 2018) with European S. paradoxus (Bergström et al., 2014) and North American S. paradoxus subpop B (Durand et al., 2019)."
   ]
  },
  {
   "cell_type": "code",
   "execution_count": 1,
   "id": "apparent-difference",
   "metadata": {},
   "outputs": [],
   "source": [
    "import pandas as pd\n",
    "import numpy as np\n",
    "import matplotlib.pyplot as plt\n",
    "import seaborn as sns\n",
    "from resample import resample_med"
   ]
  },
  {
   "cell_type": "code",
   "execution_count": 2,
   "id": "continental-arthritis",
   "metadata": {},
   "outputs": [],
   "source": [
    "#essential genes - from Winzeler et al., 1999\n",
    "essential = pd.read_csv('/Users/clairedubin/sacc/external_datasets/essential.csv', header=None)\n",
    "essential[1] = essential[1].str.strip('\\t')\n",
    "essential_genes = [i.split(' ')[0] for i in essential[1]]"
   ]
  },
  {
   "cell_type": "code",
   "execution_count": 3,
   "id": "varied-southeast",
   "metadata": {},
   "outputs": [],
   "source": [
    "gene_dict = {'YLR397C':'AFG2',\n",
    "             'YGR098C':'ESP1',\n",
    "             'YMR168C':'CEP3',\n",
    "             'YKR054C': 'DYN1',\n",
    "             'YHR023W':'MYO1',\n",
    "             'YDR180W':'SCC2',\n",
    "             'YPL174C':'NIP100',\n",
    "             'YCR042C': 'TAF2',\n",
    "             'YMR016C':'SOK2',\n",
    "             'YJR135C':'MCM22',\n",
    "             'YJL025W':'RRN7',\n",
    "             'YDR443C':'SSN2',\n",
    "             'YKL134C':'OCT1',\n",
    "             'YPR164W':'MMS1',}"
   ]
  },
  {
   "cell_type": "code",
   "execution_count": 4,
   "id": "verified-ecuador",
   "metadata": {},
   "outputs": [
    {
     "data": {
      "text/html": [
       "<div>\n",
       "<style scoped>\n",
       "    .dataframe tbody tr th:only-of-type {\n",
       "        vertical-align: middle;\n",
       "    }\n",
       "\n",
       "    .dataframe tbody tr th {\n",
       "        vertical-align: top;\n",
       "    }\n",
       "\n",
       "    .dataframe thead th {\n",
       "        text-align: right;\n",
       "    }\n",
       "</style>\n",
       "<table border=\"1\" class=\"dataframe\">\n",
       "  <thead>\n",
       "    <tr style=\"text-align: right;\">\n",
       "      <th></th>\n",
       "      <th>gene</th>\n",
       "      <th>Ds</th>\n",
       "      <th>Dn</th>\n",
       "      <th>Ps</th>\n",
       "      <th>Pn</th>\n",
       "      <th>p</th>\n",
       "    </tr>\n",
       "  </thead>\n",
       "  <tbody>\n",
       "    <tr>\n",
       "      <th>0</th>\n",
       "      <td>YLL027W</td>\n",
       "      <td>32</td>\n",
       "      <td>7</td>\n",
       "      <td>106</td>\n",
       "      <td>86</td>\n",
       "      <td>0.001117</td>\n",
       "    </tr>\n",
       "    <tr>\n",
       "      <th>1</th>\n",
       "      <td>YNL327W</td>\n",
       "      <td>0</td>\n",
       "      <td>0</td>\n",
       "      <td>438</td>\n",
       "      <td>457</td>\n",
       "      <td>1.000000</td>\n",
       "    </tr>\n",
       "    <tr>\n",
       "      <th>2</th>\n",
       "      <td>YHR170W</td>\n",
       "      <td>63</td>\n",
       "      <td>1</td>\n",
       "      <td>140</td>\n",
       "      <td>44</td>\n",
       "      <td>0.000002</td>\n",
       "    </tr>\n",
       "    <tr>\n",
       "      <th>3</th>\n",
       "      <td>YDL074C</td>\n",
       "      <td>63</td>\n",
       "      <td>17</td>\n",
       "      <td>225</td>\n",
       "      <td>171</td>\n",
       "      <td>0.000151</td>\n",
       "    </tr>\n",
       "    <tr>\n",
       "      <th>4</th>\n",
       "      <td>YBR236C</td>\n",
       "      <td>47</td>\n",
       "      <td>12</td>\n",
       "      <td>126</td>\n",
       "      <td>69</td>\n",
       "      <td>0.025226</td>\n",
       "    </tr>\n",
       "  </tbody>\n",
       "</table>\n",
       "</div>"
      ],
      "text/plain": [
       "      gene  Ds  Dn   Ps   Pn         p\n",
       "0  YLL027W  32   7  106   86  0.001117\n",
       "1  YNL327W   0   0  438  457  1.000000\n",
       "2  YHR170W  63   1  140   44  0.000002\n",
       "3  YDL074C  63  17  225  171  0.000151\n",
       "4  YBR236C  47  12  126   69  0.025226"
      ]
     },
     "execution_count": 4,
     "metadata": {},
     "output_type": "execute_result"
    }
   ],
   "source": [
    "df = pd.read_csv('~/sacc/carly_genes/MK_stats_AllScer_AllSpar.csv')\n",
    "df.head()"
   ]
  },
  {
   "cell_type": "code",
   "execution_count": 5,
   "id": "robust-parliament",
   "metadata": {},
   "outputs": [],
   "source": [
    "df['Dn/Ds'] = df['Dn']/df['Ds']\n",
    "df['Pn/Ps'] = df['Pn']/df['Ps']\n",
    "df['NI'] = df['Pn/Ps']/df['Dn/Ds']\n",
    "\n",
    "df['alpha'] = 1 - (df['Ds']*df['Pn'])/(df['Dn']*df['Pn'])"
   ]
  },
  {
   "cell_type": "code",
   "execution_count": 6,
   "id": "alpine-charger",
   "metadata": {},
   "outputs": [
    {
     "data": {
      "text/plain": [
       "2.807645833333333"
      ]
     },
     "execution_count": 6,
     "metadata": {},
     "output_type": "execute_result"
    }
   ],
   "source": [
    "df['NI'].median()"
   ]
  },
  {
   "cell_type": "code",
   "execution_count": 7,
   "id": "tender-dressing",
   "metadata": {},
   "outputs": [
    {
     "name": "stderr",
     "output_type": "stream",
     "text": [
      "<ipython-input-7-c07ffebdfd69>:2: SettingWithCopyWarning: \n",
      "A value is trying to be set on a copy of a slice from a DataFrame.\n",
      "Try using .loc[row_indexer,col_indexer] = value instead\n",
      "\n",
      "See the caveats in the documentation: https://pandas.pydata.org/pandas-docs/stable/user_guide/indexing.html#returning-a-view-versus-a-copy\n",
      "  candidates['name'] = [gene_dict[g] for g in candidates['gene']]\n"
     ]
    },
    {
     "data": {
      "text/html": [
       "<div>\n",
       "<style scoped>\n",
       "    .dataframe tbody tr th:only-of-type {\n",
       "        vertical-align: middle;\n",
       "    }\n",
       "\n",
       "    .dataframe tbody tr th {\n",
       "        vertical-align: top;\n",
       "    }\n",
       "\n",
       "    .dataframe thead th {\n",
       "        text-align: right;\n",
       "    }\n",
       "</style>\n",
       "<table border=\"1\" class=\"dataframe\">\n",
       "  <thead>\n",
       "    <tr style=\"text-align: right;\">\n",
       "      <th></th>\n",
       "      <th>gene</th>\n",
       "      <th>name</th>\n",
       "      <th>Ds</th>\n",
       "      <th>Dn</th>\n",
       "      <th>Ps</th>\n",
       "      <th>Pn</th>\n",
       "      <th>Dn/Ds</th>\n",
       "      <th>Pn/Ps</th>\n",
       "      <th>NI</th>\n",
       "      <th>alpha</th>\n",
       "    </tr>\n",
       "  </thead>\n",
       "  <tbody>\n",
       "    <tr>\n",
       "      <th>42</th>\n",
       "      <td>YJL025W</td>\n",
       "      <td>RRN7</td>\n",
       "      <td>69</td>\n",
       "      <td>17</td>\n",
       "      <td>163</td>\n",
       "      <td>165</td>\n",
       "      <td>0.246377</td>\n",
       "      <td>1.012270</td>\n",
       "      <td>4.108625</td>\n",
       "      <td>-3.058824</td>\n",
       "    </tr>\n",
       "    <tr>\n",
       "      <th>232</th>\n",
       "      <td>YKL134C</td>\n",
       "      <td>OCT1</td>\n",
       "      <td>53</td>\n",
       "      <td>9</td>\n",
       "      <td>142</td>\n",
       "      <td>95</td>\n",
       "      <td>0.169811</td>\n",
       "      <td>0.669014</td>\n",
       "      <td>3.939750</td>\n",
       "      <td>-4.888889</td>\n",
       "    </tr>\n",
       "    <tr>\n",
       "      <th>324</th>\n",
       "      <td>YCR042C</td>\n",
       "      <td>TAF2</td>\n",
       "      <td>155</td>\n",
       "      <td>45</td>\n",
       "      <td>661</td>\n",
       "      <td>470</td>\n",
       "      <td>0.290323</td>\n",
       "      <td>0.711044</td>\n",
       "      <td>2.449151</td>\n",
       "      <td>-2.444444</td>\n",
       "    </tr>\n",
       "    <tr>\n",
       "      <th>339</th>\n",
       "      <td>YKR054C</td>\n",
       "      <td>DYN1</td>\n",
       "      <td>461</td>\n",
       "      <td>222</td>\n",
       "      <td>1395</td>\n",
       "      <td>1311</td>\n",
       "      <td>0.481562</td>\n",
       "      <td>0.939785</td>\n",
       "      <td>1.951535</td>\n",
       "      <td>-1.076577</td>\n",
       "    </tr>\n",
       "    <tr>\n",
       "      <th>401</th>\n",
       "      <td>YGR098C</td>\n",
       "      <td>ESP1</td>\n",
       "      <td>182</td>\n",
       "      <td>73</td>\n",
       "      <td>599</td>\n",
       "      <td>477</td>\n",
       "      <td>0.401099</td>\n",
       "      <td>0.796327</td>\n",
       "      <td>1.985364</td>\n",
       "      <td>-1.493151</td>\n",
       "    </tr>\n",
       "    <tr>\n",
       "      <th>1730</th>\n",
       "      <td>YPL174C</td>\n",
       "      <td>NIP100</td>\n",
       "      <td>45</td>\n",
       "      <td>44</td>\n",
       "      <td>178</td>\n",
       "      <td>252</td>\n",
       "      <td>0.977778</td>\n",
       "      <td>1.415730</td>\n",
       "      <td>1.447906</td>\n",
       "      <td>-0.022727</td>\n",
       "    </tr>\n",
       "    <tr>\n",
       "      <th>1977</th>\n",
       "      <td>YMR016C</td>\n",
       "      <td>SOK2</td>\n",
       "      <td>76</td>\n",
       "      <td>35</td>\n",
       "      <td>326</td>\n",
       "      <td>308</td>\n",
       "      <td>0.460526</td>\n",
       "      <td>0.944785</td>\n",
       "      <td>2.051534</td>\n",
       "      <td>-1.171429</td>\n",
       "    </tr>\n",
       "    <tr>\n",
       "      <th>2038</th>\n",
       "      <td>YDR443C</td>\n",
       "      <td>SSN2</td>\n",
       "      <td>160</td>\n",
       "      <td>33</td>\n",
       "      <td>510</td>\n",
       "      <td>288</td>\n",
       "      <td>0.206250</td>\n",
       "      <td>0.564706</td>\n",
       "      <td>2.737968</td>\n",
       "      <td>-3.848485</td>\n",
       "    </tr>\n",
       "    <tr>\n",
       "      <th>2411</th>\n",
       "      <td>YLR397C</td>\n",
       "      <td>AFG2</td>\n",
       "      <td>102</td>\n",
       "      <td>27</td>\n",
       "      <td>288</td>\n",
       "      <td>155</td>\n",
       "      <td>0.264706</td>\n",
       "      <td>0.538194</td>\n",
       "      <td>2.033179</td>\n",
       "      <td>-2.777778</td>\n",
       "    </tr>\n",
       "    <tr>\n",
       "      <th>3140</th>\n",
       "      <td>YJR135C</td>\n",
       "      <td>MCM22</td>\n",
       "      <td>19</td>\n",
       "      <td>12</td>\n",
       "      <td>109</td>\n",
       "      <td>128</td>\n",
       "      <td>0.631579</td>\n",
       "      <td>1.174312</td>\n",
       "      <td>1.859327</td>\n",
       "      <td>-0.583333</td>\n",
       "    </tr>\n",
       "    <tr>\n",
       "      <th>3586</th>\n",
       "      <td>YPR164W</td>\n",
       "      <td>MMS1</td>\n",
       "      <td>174</td>\n",
       "      <td>61</td>\n",
       "      <td>597</td>\n",
       "      <td>500</td>\n",
       "      <td>0.350575</td>\n",
       "      <td>0.837521</td>\n",
       "      <td>2.388994</td>\n",
       "      <td>-1.852459</td>\n",
       "    </tr>\n",
       "    <tr>\n",
       "      <th>3625</th>\n",
       "      <td>YDR180W</td>\n",
       "      <td>SCC2</td>\n",
       "      <td>173</td>\n",
       "      <td>72</td>\n",
       "      <td>523</td>\n",
       "      <td>431</td>\n",
       "      <td>0.416185</td>\n",
       "      <td>0.824092</td>\n",
       "      <td>1.980109</td>\n",
       "      <td>-1.402778</td>\n",
       "    </tr>\n",
       "    <tr>\n",
       "      <th>3701</th>\n",
       "      <td>YHR023W</td>\n",
       "      <td>MYO1</td>\n",
       "      <td>224</td>\n",
       "      <td>55</td>\n",
       "      <td>720</td>\n",
       "      <td>493</td>\n",
       "      <td>0.245536</td>\n",
       "      <td>0.684722</td>\n",
       "      <td>2.788687</td>\n",
       "      <td>-3.072727</td>\n",
       "    </tr>\n",
       "  </tbody>\n",
       "</table>\n",
       "</div>"
      ],
      "text/plain": [
       "         gene    name   Ds   Dn    Ps    Pn     Dn/Ds     Pn/Ps        NI  \\\n",
       "42    YJL025W    RRN7   69   17   163   165  0.246377  1.012270  4.108625   \n",
       "232   YKL134C    OCT1   53    9   142    95  0.169811  0.669014  3.939750   \n",
       "324   YCR042C    TAF2  155   45   661   470  0.290323  0.711044  2.449151   \n",
       "339   YKR054C    DYN1  461  222  1395  1311  0.481562  0.939785  1.951535   \n",
       "401   YGR098C    ESP1  182   73   599   477  0.401099  0.796327  1.985364   \n",
       "1730  YPL174C  NIP100   45   44   178   252  0.977778  1.415730  1.447906   \n",
       "1977  YMR016C    SOK2   76   35   326   308  0.460526  0.944785  2.051534   \n",
       "2038  YDR443C    SSN2  160   33   510   288  0.206250  0.564706  2.737968   \n",
       "2411  YLR397C    AFG2  102   27   288   155  0.264706  0.538194  2.033179   \n",
       "3140  YJR135C   MCM22   19   12   109   128  0.631579  1.174312  1.859327   \n",
       "3586  YPR164W    MMS1  174   61   597   500  0.350575  0.837521  2.388994   \n",
       "3625  YDR180W    SCC2  173   72   523   431  0.416185  0.824092  1.980109   \n",
       "3701  YHR023W    MYO1  224   55   720   493  0.245536  0.684722  2.788687   \n",
       "\n",
       "         alpha  \n",
       "42   -3.058824  \n",
       "232  -4.888889  \n",
       "324  -2.444444  \n",
       "339  -1.076577  \n",
       "401  -1.493151  \n",
       "1730 -0.022727  \n",
       "1977 -1.171429  \n",
       "2038 -3.848485  \n",
       "2411 -2.777778  \n",
       "3140 -0.583333  \n",
       "3586 -1.852459  \n",
       "3625 -1.402778  \n",
       "3701 -3.072727  "
      ]
     },
     "execution_count": 7,
     "metadata": {},
     "output_type": "execute_result"
    }
   ],
   "source": [
    "candidates = df[df['gene'].isin(gene_dict.keys())]\n",
    "candidates['name'] = [gene_dict[g] for g in candidates['gene']]\n",
    "candidates[['gene','name', 'Ds', 'Dn', 'Ps', 'Pn', 'Dn/Ds', 'Pn/Ps', 'NI', 'alpha',\n",
    "       ]]"
   ]
  },
  {
   "cell_type": "markdown",
   "id": "hourly-apparel",
   "metadata": {},
   "source": [
    "## Resample Neutrality Index"
   ]
  },
  {
   "cell_type": "code",
   "execution_count": 8,
   "id": "measured-store",
   "metadata": {},
   "outputs": [
    {
     "name": "stdout",
     "output_type": "stream",
     "text": [
      "missing:  ['CEP3']\n",
      "candidate gene median NI: 2.0515337423312885\n",
      "essential count: 5; nonessential_count: 8\n",
      "resampling pool size: 3855\n",
      "p = 0.0236\n",
      "NI p=0.0236\n"
     ]
    },
    {
     "data": {
      "image/png": "[encoded data removed]",
      "text/plain": [
       "<Figure size 360x360 with 1 Axes>"
      ]
     },
     "metadata": {
      "needs_background": "light"
     },
     "output_type": "display_data"
    }
   ],
   "source": [
    "##Resample NI\n",
    "np.random.seed(1)\n",
    "\n",
    "print('missing: ', [gene_dict[i] for i in gene_dict.keys() if i not in candidates['gene'].tolist()])\n",
    "print('NI p={}'.format(resample_med(candidates, df, 'NI', essential_genes, direction='less_than', graph=True)))"
   ]
  },
  {
   "cell_type": "code",
   "execution_count": 9,
   "id": "laughing-diagram",
   "metadata": {},
   "outputs": [
    {
     "data": {
      "text/plain": [
       "<matplotlib.legend.Legend at 0x7fa5758b3850>"
      ]
     },
     "execution_count": 9,
     "metadata": {},
     "output_type": "execute_result"
    },
    {
     "data": {
      "image/png": "[encoded data removed]",
      "text/plain": [
       "<Figure size 720x360 with 1 Axes>"
      ]
     },
     "metadata": {
      "needs_background": "light"
     },
     "output_type": "display_data"
    }
   ],
   "source": [
    "#plot NI by gene\n",
    "\n",
    "plt.figure(figsize=(10, 5))\n",
    "plt.bar([gene_dict[gene] for gene in candidates.gene], candidates['NI'])\n",
    "plt.ylabel(\"NI\")\n",
    "plt.tick_params(axis='x', labelbottom=True, labeltop=False, bottom=False)\n",
    "plt.xticks(rotation=90)\n",
    "plt.axhline(y=candidates['NI'].median(),linewidth=1, color='orange', label='candidate median')\n",
    "plt.axhline(y=df['NI'].median(),linewidth=1, color='purple', label='genome wide median')\n",
    "\n",
    "plt.legend(loc='upper right', bbox_to_anchor=(1, 1.1),\n",
    "      ncol=3, fancybox=True, shadow=True)"
   ]
  },
  {
   "cell_type": "markdown",
   "id": "historical-dodge",
   "metadata": {},
   "source": [
    "## Resample other MK stats"
   ]
  },
  {
   "cell_type": "code",
   "execution_count": 10,
   "id": "fifty-mumbai",
   "metadata": {
    "scrolled": false
   },
   "outputs": [
    {
     "name": "stdout",
     "output_type": "stream",
     "text": [
      "missing:  ['CEP3']\n",
      "candidate gene median Dn/Ds: 0.3505747126436782\n",
      "essential count: 5; nonessential_count: 8\n",
      "resampling pool size: 3855\n",
      "p = 0.048\n",
      "Dn/Ds p=0.048\n"
     ]
    },
    {
     "data": {
      "image/png": "[encoded data removed]",
      "text/plain": [
       "<Figure size 360x360 with 1 Axes>"
      ]
     },
     "metadata": {
      "needs_background": "light"
     },
     "output_type": "display_data"
    }
   ],
   "source": [
    "np.random.seed(5)\n",
    "\n",
    "print('missing: ', [gene_dict[i] for i in gene_dict.keys() if i not in candidates['gene'].tolist()])\n",
    "print('Dn/Ds p={}'.format(resample_med(candidates, df, 'Dn/Ds', essential_genes, direction='greater_than', graph=True)))"
   ]
  },
  {
   "cell_type": "code",
   "execution_count": 11,
   "id": "covered-authentication",
   "metadata": {},
   "outputs": [
    {
     "name": "stdout",
     "output_type": "stream",
     "text": [
      "missing:  ['CEP3']\n",
      "candidate gene median Pn/Ps: 0.8240917782026769\n",
      "essential count: 5; nonessential_count: 8\n",
      "resampling pool size: 3855\n",
      "p = 0.0485\n",
      "Pn/Ps p=0.0485\n"
     ]
    },
    {
     "data": {
      "image/png": "[encoded data removed]",
      "text/plain": [
       "<Figure size 360x360 with 1 Axes>"
      ]
     },
     "metadata": {
      "needs_background": "light"
     },
     "output_type": "display_data"
    }
   ],
   "source": [
    "np.random.seed(4)\n",
    "\n",
    "print('missing: ', [gene_dict[i] for i in gene_dict.keys() if i not in candidates['gene'].tolist()])\n",
    "print('Pn/Ps p={}'.format(resample_med(candidates, df, 'Pn/Ps', essential_genes, direction='greater_than', graph=True)))"
   ]
  },
  {
   "cell_type": "code",
   "execution_count": 12,
   "id": "constant-armstrong",
   "metadata": {},
   "outputs": [
    {
     "name": "stdout",
     "output_type": "stream",
     "text": [
      "missing:  ['CEP3']\n",
      "candidate gene median alpha: -1.8524590163934427\n",
      "essential count: 5; nonessential_count: 8\n",
      "resampling pool size: 3855\n",
      "p = 0.0463\n",
      "alpha p=0.0463\n"
     ]
    },
    {
     "data": {
      "image/png": "[encoded data removed]",
      "text/plain": [
       "<Figure size 360x360 with 1 Axes>"
      ]
     },
     "metadata": {
      "needs_background": "light"
     },
     "output_type": "display_data"
    }
   ],
   "source": [
    "np.random.seed(3)\n",
    "\n",
    "print('missing: ', [gene_dict[i] for i in gene_dict.keys() if i not in candidates['gene'].tolist()])\n",
    "print('alpha p={}'.format(resample_med(candidates, df, 'alpha', essential_genes, direction='greater_than', graph=True)))"
   ]
  },
  {
   "cell_type": "markdown",
   "id": "received-naples",
   "metadata": {},
   "source": [
    "## Plotting other stats"
   ]
  },
  {
   "cell_type": "code",
   "execution_count": 13,
   "id": "normal-saudi",
   "metadata": {},
   "outputs": [
    {
     "data": {
      "text/plain": [
       "<matplotlib.legend.Legend at 0x7fa575fe2460>"
      ]
     },
     "execution_count": 13,
     "metadata": {},
     "output_type": "execute_result"
    },
    {
     "data": {
      "image/png": "[encoded data removed]",
      "text/plain": [
       "<Figure size 720x360 with 1 Axes>"
      ]
     },
     "metadata": {
      "needs_background": "light"
     },
     "output_type": "display_data"
    }
   ],
   "source": [
    "#plot Dn/Ds by gene\n",
    "\n",
    "plt.figure(figsize=(10, 5))\n",
    "plt.bar([gene_dict[gene] for gene in candidates.gene], candidates['Dn/Ds'])\n",
    "plt.ylabel(\"Dn/Ds\")\n",
    "plt.tick_params(axis='x', labelbottom=True, labeltop=False, bottom=False)\n",
    "plt.xticks(rotation=90)\n",
    "plt.axhline(y=candidates['Dn/Ds'].median(),linewidth=1, color='orange', label='candidate median')\n",
    "plt.axhline(y=df['Dn/Ds'].median(),linewidth=1, color='purple', label='genome wide median')\n",
    "\n",
    "plt.legend(loc='upper right', bbox_to_anchor=(1, 1.1),\n",
    "      ncol=3, fancybox=True, shadow=True)"
   ]
  },
  {
   "cell_type": "code",
   "execution_count": 14,
   "id": "cooperative-rendering",
   "metadata": {},
   "outputs": [
    {
     "data": {
      "text/plain": [
       "<matplotlib.legend.Legend at 0x7fa57639b640>"
      ]
     },
     "execution_count": 14,
     "metadata": {},
     "output_type": "execute_result"
    },
    {
     "data": {
      "image/png": "[encoded data removed]",
      "text/plain": [
       "<Figure size 720x360 with 1 Axes>"
      ]
     },
     "metadata": {
      "needs_background": "light"
     },
     "output_type": "display_data"
    }
   ],
   "source": [
    "#plot Pn/Ps by gene\n",
    "\n",
    "plt.figure(figsize=(10, 5))\n",
    "plt.bar([gene_dict[gene] for gene in candidates.gene], candidates['Pn/Ps'])\n",
    "plt.ylabel(\"Pn/Ps\")\n",
    "plt.tick_params(axis='x', labelbottom=True, labeltop=False, bottom=False)\n",
    "plt.xticks(rotation=90)\n",
    "plt.axhline(y=candidates['Pn/Ps'].median(),linewidth=1, color='orange', label='candidate median')\n",
    "plt.axhline(y=df['Pn/Ps'].median(),linewidth=1, color='purple', label='genome wide median')\n",
    "\n",
    "plt.legend(loc='upper right', bbox_to_anchor=(1, 1.1),\n",
    "      ncol=3, fancybox=True, shadow=True)"
   ]
  },
  {
   "cell_type": "code",
   "execution_count": 15,
   "id": "nearby-inquiry",
   "metadata": {},
   "outputs": [
    {
     "data": {
      "text/plain": [
       "<matplotlib.legend.Legend at 0x7fa5764f9580>"
      ]
     },
     "execution_count": 15,
     "metadata": {},
     "output_type": "execute_result"
    },
    {
     "data": {
      "image/png": "[encoded data removed]",
      "text/plain": [
       "<Figure size 720x360 with 1 Axes>"
      ]
     },
     "metadata": {
      "needs_background": "light"
     },
     "output_type": "display_data"
    }
   ],
   "source": [
    "#plot alpha by gene\n",
    "\n",
    "plt.figure(figsize=(10, 5))\n",
    "plt.bar([gene_dict[gene] for gene in candidates.gene], candidates['alpha'])\n",
    "plt.ylabel(\"alpha\")\n",
    "plt.tick_params(axis='x', labelbottom=True, labeltop=False, bottom=False)\n",
    "plt.xticks(rotation=90)\n",
    "plt.axhline(y=candidates['alpha'].median(),linewidth=1, color='orange', label='candidate median')\n",
    "plt.axhline(y=df['alpha'].median(),linewidth=1, color='purple', label='genome wide median')\n",
    "\n",
    "plt.legend(loc='upper right', bbox_to_anchor=(1, 1.1),\n",
    "      ncol=3, fancybox=True, shadow=True)"
   ]
  },
  {
   "cell_type": "markdown",
   "id": "economic-graphics",
   "metadata": {},
   "source": [
    "## Resample Dn, Ds, Pn, Ps individually"
   ]
  },
  {
   "cell_type": "code",
   "execution_count": 16,
   "id": "limiting-ferry",
   "metadata": {},
   "outputs": [],
   "source": [
    "import os\n",
    "from Bio import SeqIO\n",
    "\n",
    "#normalize to gene length\n",
    "codon_dir = '/Users/clairedubin/sacc/carly_genes/alignments/1011Scer_allSpar_codon_alignments/codons_aligned/'\n",
    "seq_lengths = {}\n",
    "for f in os.listdir(codon_dir):\n",
    "    \n",
    "    gene = f.strip('.pal2nal.fasta')\n",
    "    \n",
    "    for record in SeqIO.parse(codon_dir+f, 'fasta'):\n",
    "        seq_lengths[gene] = len(record.seq)\n",
    "        break\n",
    "        \n",
    "df_norm = df.merge(pd.DataFrame.from_dict(seq_lengths, orient='index'), right_index=True, left_on='gene')\n",
    "df_norm = df_norm.rename(columns={0:'seq_length'})\n",
    "\n",
    "for i in ['Dn','Ds','Pn','Ps']:\n",
    "    \n",
    "    df_norm[i+'_norm'] = df_norm[i]/df_norm['seq_length']"
   ]
  },
  {
   "cell_type": "code",
   "execution_count": 22,
   "id": "mineral-advice",
   "metadata": {},
   "outputs": [
    {
     "name": "stdout",
     "output_type": "stream",
     "text": [
      "Dn resampling (normalized to sequence length)\n",
      "missing:  ['CEP3']\n",
      "candidate gene median Dn_norm: 0.0144515517649846\n",
      "essential count: 5; nonessential_count: 8\n",
      "resampling pool size: 3855\n",
      "p = 0.0103\n",
      "\n",
      "Ds resampling (normalized to sequence length)\n",
      "missing:  ['CEP3']\n",
      "candidate gene median Ds_norm: 0.03774666339146811\n",
      "essential count: 5; nonessential_count: 8\n",
      "resampling pool size: 3855\n",
      "p = 0.3457\n",
      "\n",
      "Pn resampling (normalized to sequence length)\n",
      "missing:  ['CEP3']\n",
      "candidate gene median Pn_norm: 0.10734463276836158\n",
      "essential count: 5; nonessential_count: 8\n",
      "resampling pool size: 3855\n",
      "p = 0.0168\n",
      "\n",
      "Ps resampling (normalized to sequence length)\n",
      "missing:  ['CEP3']\n",
      "candidate gene median Ps_norm: 0.12307692307692308\n",
      "essential count: 5; nonessential_count: 8\n",
      "resampling pool size: 3855\n",
      "p = 0.0595\n",
      "\n"
     ]
    }
   ],
   "source": [
    "candidates_norm = df_norm[df_norm['gene'].isin(gene_dict.keys())]\n",
    "\n",
    "np.random.seed(2)\n",
    "\n",
    "for i in ['Dn','Ds','Pn','Ps']:\n",
    "    \n",
    "    print('{} resampling (normalized to sequence length)'.format(i))\n",
    "    print('missing: ', [gene_dict[i] for i in gene_dict.keys() if i not in candidates_norm['gene'].tolist()])\n",
    "    r = resample_med(candidates_norm, df_norm, i+'_norm', essential_genes, direction='greater_than')\n",
    "    print()"
   ]
  },
  {
   "cell_type": "code",
   "execution_count": null,
   "id": "scheduled-idaho",
   "metadata": {},
   "outputs": [],
   "source": []
  }
 ],
 "metadata": {
  "kernelspec": {
   "display_name": "py3",
   "language": "python",
   "name": "py3"
  },
  "language_info": {
   "codemirror_mode": {
    "name": "ipython",
    "version": 3
   },
   "file_extension": ".py",
   "mimetype": "text/x-python",
   "name": "python",
   "nbconvert_exporter": "python",
   "pygments_lexer": "ipython3",
   "version": "3.8.5"
  }
 },
 "nbformat": 4,
 "nbformat_minor": 5
}
