{
 "cells": [
  {
   "cell_type": "markdown",
   "id": "every-tooth",
   "metadata": {},
   "source": [
    "**Generate codon-based alignments of all Scer strains (Peter, et al 2018) with European S. paradoxus (Bergström et al., 2014) and North American S. paradoxus subpop B (Durand et al., 2019) for input into the. McDonald-Kreitman test.**"
   ]
  },
  {
   "cell_type": "code",
   "execution_count": 1,
   "id": "athletic-yemen",
   "metadata": {},
   "outputs": [],
   "source": [
    "import os\n",
    "import Bio\n",
    "from Bio import SeqIO\n",
    "from Bio.Seq import Seq\n",
    "import re\n",
    "from Bio.SeqRecord import SeqRecord\n",
    "import pandas as pd\n",
    "import subprocess\n",
    "import sys\n",
    "from os import system"
   ]
  },
  {
   "cell_type": "markdown",
   "id": "polished-shakespeare",
   "metadata": {},
   "source": [
    "### Make files: unaligned nucleotide and AA seqs for each gene, with all Scer strains and all Spar strains"
   ]
  },
  {
   "cell_type": "code",
   "execution_count": 3,
   "id": "durable-happening",
   "metadata": {},
   "outputs": [],
   "source": [
    "#combine Scer and Spar nucleotide seqs\n",
    "\n",
    "for filename in os.listdir('alignments/Spar_alignments/EuroSpar_NASpar_unaligned'):\n",
    "\n",
    "    if filename[-3:] != '.fa':\n",
    "        continue\n",
    "\n",
    "    if os.path.exists('alignments/1011_all_strains_unaligned/'+filename+'sta'):\n",
    "        call = 'cat alignments/Spar_alignments/EuroSpar_NASpar_unaligned/{} alignments/1011_all_strains_unaligned/{} > alignments/1011Scer_allSpar_codon_alignments/{}'.format(filename, filename+'sta', filename)\n",
    "        system(call)"
   ]
  },
  {
   "cell_type": "code",
   "execution_count": null,
   "id": "classified-inspiration",
   "metadata": {},
   "outputs": [],
   "source": [
    "#for each file, make an AA file from nucleotide sequence\n",
    "#also write cleaner nucleotide file in same directory\n",
    "\n",
    "comb_fastas = '/Users/clairedubin/sacc/carly_genes/alignments/1011Scer_allSpar_codon_alignments/nuc_unaligned_messy/'\n",
    "nuc_outdir = '/Users/clairedubin/sacc/carly_genes/alignments/1011Scer_allSpar_codon_alignments/nuc_unaligned/'\n",
    "aa_outdir = '/Users/clairedubin/sacc/carly_genes/alignments/1011Scer_allSpar_codon_alignments/AA_unaligned/'\n",
    "\n",
    "for f in os.listdir(comb_fastas):\n",
    "\n",
    "    if '.muscle_afa' in f:\n",
    "        continue\n",
    "        \n",
    "    gene = f.strip('.fa')\n",
    "    nuc_to_write = ''\n",
    "    AA_to_write = ''\n",
    "    \n",
    "    for record in SeqIO.parse(comb_fastas+f, 'fasta'):\n",
    "        \n",
    "        aa_seq = record.seq.translate()\n",
    "        \n",
    "        nuc_to_write += '>' + record.id + '\\n' + str(record.seq) + '\\n'\n",
    "        AA_to_write += '>' + record.id + '\\n' + str(aa_seq) + '\\n'\n",
    "    \n",
    "    nuc_out = open(nuc_outdir + gene + '.fna', 'w')\n",
    "    nuc_out.write(nuc_to_write)\n",
    "    nuc_out.close()\n",
    "    \n",
    "    aa_out = open(aa_outdir + gene + '.faa', 'w')\n",
    "    aa_out.write(AA_to_write)\n",
    "    aa_out.close()"
   ]
  },
  {
   "cell_type": "markdown",
   "id": "editorial-hamburg",
   "metadata": {},
   "source": [
    "NOTE: In some sequences there's a stop codon in the middle of a nucleotide sequence, which breaks PAL2NAL.\n",
    "\n",
    "-if it happens in 10 or less strains within a gene, just drop those strains\n",
    "\n",
    "-otherwise, drop the gene from analysis\n",
    "\n",
    "-also drop genes with introns\n",
    "\n",
    "In total, drop 929 genes, none of which are candidate genes."
   ]
  },
  {
   "cell_type": "code",
   "execution_count": 2,
   "id": "committed-going",
   "metadata": {},
   "outputs": [
    {
     "name": "stdout",
     "output_type": "stream",
     "text": [
      "genes with stop in ORF: 2996\n",
      "\n",
      "genes with introns:  83\n",
      "genes after dropping genes with introns:  2913\n",
      "\n",
      "genes with less than 1 strain with stop in ORF: 749\n",
      "genes with less than 5 strains with stop in ORF: 1698\n",
      "genes with less than 10 strains with stop in ORF: 2067\n",
      "\n",
      "number of genes to drop:  929\n"
     ]
    }
   ],
   "source": [
    "intron_genes = []\n",
    "for line in open('/Users/clairedubin/sacc/external_datasets/Scer.gff.txt', 'r').readlines():\n",
    "    \n",
    "    intron_count = line.split('introns=')[1][0]\n",
    "    if intron_count != '0':\n",
    "        intron_genes += [line.split('BLAST=')[1].split(';')[0]]\n",
    "        \n",
    "\n",
    "AA_dir = 'alignments/1011Scer_allSpar_codon_alignments/AA_unaligned/'\n",
    "nuc_dir = 'alignments/1011Scer_allSpar_codon_alignments/nuc_unaligned/'\n",
    "\n",
    "stops = {}\n",
    "scer_stops = {}\n",
    "spar_stops = {}\n",
    "for i, AA_file in enumerate(os.listdir(AA_dir)):\n",
    "    \n",
    "    rl = open(AA_dir+AA_file, 'r').readlines()\n",
    "    \n",
    "    for line_num, line in enumerate(rl):\n",
    "        matches = re.findall(r'[A-Z\\*]\\*[A-Z\\*]', line)\n",
    "        \n",
    "        if len(matches) > 0:\n",
    "            \n",
    "            if '_Sp_' in rl[line_num-1]:\n",
    "                if AA_file not in spar_stops:\n",
    "                    spar_stops[AA_file] = 1\n",
    "                else:\n",
    "                    spar_stops[AA_file] += 1\n",
    "                \n",
    "            else:\n",
    "                if AA_file not in scer_stops:\n",
    "                    scer_stops[AA_file] = 1\n",
    "                else:\n",
    "                    scer_stops[AA_file] += 1\n",
    "            \n",
    "            if AA_file not in stops:\n",
    "                stops[AA_file] = 1\n",
    "            else:\n",
    "                stops[AA_file] += 1\n",
    "                \n",
    "genes_to_drop = []\n",
    "\n",
    "df = pd.DataFrame.from_dict(stops, orient='index')\n",
    "df.columns = ['num_genes_with_stop_in_ORF']\n",
    "print('genes with stop in ORF:', df.shape[0])\n",
    "\n",
    "print()\n",
    "print('genes with introns: ', df[df.index.str.strip('.faa').isin(intron_genes)].shape[0])\n",
    "genes_to_drop += list(df[df.index.str.strip('.faa').isin(intron_genes)].index)\n",
    "df = df[~df.index.str.strip('.faa').isin(intron_genes)]\n",
    "print('genes after dropping genes with introns: ', df.shape[0])\n",
    "print()\n",
    "\n",
    "print('genes with less than 1 strain with stop in ORF:', df[df['num_genes_with_stop_in_ORF'] <= 1].shape[0])\n",
    "print('genes with less than 5 strains with stop in ORF:', df[df['num_genes_with_stop_in_ORF'] <= 5].shape[0])\n",
    "print('genes with less than 10 strains with stop in ORF:', df[df['num_genes_with_stop_in_ORF'] <= 10].shape[0])\n",
    "genes_to_drop += list(df[df['num_genes_with_stop_in_ORF'] > 10].index)\n",
    "\n",
    "print()\n",
    "print('number of genes to drop: ', len(genes_to_drop))"
   ]
  },
  {
   "cell_type": "code",
   "execution_count": 3,
   "id": "central-election",
   "metadata": {},
   "outputs": [
    {
     "name": "stdout",
     "output_type": "stream",
     "text": [
      "genes with only stops in Spar ORFs:  58\n",
      "genes with only stops in Scer ORFs:  2623\n",
      "genes with stops in ORFs of both species:  315\n"
     ]
    }
   ],
   "source": [
    "#genes with only stops in Spar ORF (not Scer ORF)\n",
    "\n",
    "print('genes with only stops in Spar ORFs: ', len([i for i in spar_stops.keys() if i not in scer_stops.keys()]))\n",
    "print('genes with only stops in Scer ORFs: ', len([i for i in scer_stops.keys() if i not in spar_stops.keys()]))\n",
    "print('genes with stops in ORFs of both species: ', len([i for i in scer_stops.keys() if i in spar_stops.keys()]))"
   ]
  },
  {
   "cell_type": "code",
   "execution_count": 4,
   "id": "sporting-parts",
   "metadata": {},
   "outputs": [
    {
     "data": {
      "text/plain": [
       "[]"
      ]
     },
     "execution_count": 4,
     "metadata": {},
     "output_type": "execute_result"
    }
   ],
   "source": [
    "#are we dropping any candidate genes? no\n",
    "\n",
    "gene_dict = {'YLR397C':'AFG2',\n",
    "             'YGR098C':'ESP1',\n",
    "             'YMR168C':'CEP3',\n",
    "             'YKR054C': 'DYN1',\n",
    "             'YHR023W':'MYO1',\n",
    "             'YDR180W':'SCC2',\n",
    "             'YPL174C':'NIP100',\n",
    "             'YCR042C': 'TAF2',\n",
    "             'YMR016C':'SOK2',\n",
    "             'YJR135C':'MCM22',\n",
    "             'YJL025W':'RRN7',\n",
    "             'YDR443C':'SSN2',\n",
    "             'YKL134C':'OCT1',\n",
    "             'YPR164W':'MMS1',}\n",
    "\n",
    "[i for i in gene_dict.keys() if i in genes_to_drop]"
   ]
  },
  {
   "cell_type": "code",
   "execution_count": 42,
   "id": "confirmed-astronomy",
   "metadata": {},
   "outputs": [],
   "source": [
    "files_to_edit = stops.keys()"
   ]
  },
  {
   "cell_type": "code",
   "execution_count": 63,
   "id": "corporate-living",
   "metadata": {},
   "outputs": [],
   "source": [
    "#make new files - drop strains with stop codons\n",
    "\n",
    "from shutil import copyfile\n",
    "\n",
    "AA_dir = 'alignments/1011Scer_allSpar_codon_alignments/AA_unaligned/'\n",
    "nuc_dir = 'alignments/1011Scer_allSpar_codon_alignments/nuc_unaligned/'\n",
    "AA_outdir = 'alignments/1011Scer_allSpar_codon_alignments/AA_unaligned_clean/'\n",
    "nuc_outdir = 'alignments/1011Scer_allSpar_codon_alignments/nuc_unaligned_clean/'\n",
    "\n",
    "for AA_file in os.listdir(AA_dir):\n",
    "    \n",
    "    gene = AA_file.strip('.faa')\n",
    "    nuc_file = AA_file.replace('.faa', '.fna')\n",
    "    \n",
    "    if  not os.path.exists(nuc_dir+nuc_file):\n",
    "        continue\n",
    "    \n",
    "    if gene in genes_to_drop:\n",
    "        continue\n",
    "        \n",
    "    if AA_file not in files_to_edit:\n",
    "        copyfile(AA_dir+AA_file, AA_outdir+AA_file)\n",
    "        copyfile(nuc_dir+nuc_file, nuc_outdir+nuc_file)\n",
    "        continue\n",
    "    \n",
    "    \n",
    "    strains_to_drop = []\n",
    "    to_write = ''\n",
    "    for record in SeqIO.parse(AA_dir+AA_file,'fasta'):\n",
    "        if '*' in record.seq[:-1]:\n",
    "            strains_to_drop += [record.id]\n",
    "            continue\n",
    "        to_write += '>{}\\n{}\\n'.format(record.id, str(record.seq))\n",
    "    \n",
    "    AA_out = open(AA_outdir+AA_file, 'w')\n",
    "    AA_out.write(to_write)\n",
    "    AA_out.close()\n",
    "\n",
    "    \n",
    "    to_write=''\n",
    "    for record in SeqIO.parse(nuc_dir+nuc_file,'fasta'):\n",
    "        if record.id not in strains_to_drop: \n",
    "            to_write += '>{}\\n{}\\n'.format(record.id, str(record.seq))\n",
    "    \n",
    "    nuc_out = open(nuc_outdir+nuc_file, 'w')\n",
    "    nuc_out.write(to_write)\n",
    "    nuc_out.close()    "
   ]
  },
  {
   "cell_type": "code",
   "execution_count": 54,
   "id": "inclusive-renaissance",
   "metadata": {},
   "outputs": [
    {
     "data": {
      "text/plain": [
       "(4883, 4882)"
      ]
     },
     "execution_count": 54,
     "metadata": {},
     "output_type": "execute_result"
    }
   ],
   "source": [
    "len(os.listdir(AA_dir)), len(os.listdir(nuc_dir))"
   ]
  },
  {
   "cell_type": "code",
   "execution_count": 53,
   "id": "adopted-compromise",
   "metadata": {},
   "outputs": [
    {
     "data": {
      "text/plain": [
       "(3953, 3953)"
      ]
     },
     "execution_count": 53,
     "metadata": {},
     "output_type": "execute_result"
    }
   ],
   "source": [
    "len(os.listdir(AA_outdir)), len(os.listdir(nuc_outdir))"
   ]
  },
  {
   "cell_type": "markdown",
   "id": "dangerous-hurricane",
   "metadata": {},
   "source": [
    "### Aligned AA seqs on Savio using MUSCLE\n",
    "\n",
    "`#!/bin/bash`\n",
    "\n",
    "`/global/home/users/clairedubin/programs/muscle -in $1 -out $2 -maxiters 2`"
   ]
  },
  {
   "cell_type": "markdown",
   "id": "assigned-living",
   "metadata": {},
   "source": [
    "Sort AA and nucleotide files so strains are in the same order"
   ]
  },
  {
   "cell_type": "code",
   "execution_count": 6,
   "id": "structural-lodging",
   "metadata": {},
   "outputs": [],
   "source": [
    "#sort AA and nuc files so everything is in the same order\n",
    "\n",
    "AA_dir = 'alignments/1011Scer_allSpar_codon_alignments/AA_aligned_clean/'\n",
    "nuc_dir = 'alignments/1011Scer_allSpar_codon_alignments/nuc_unaligned_clean/'\n",
    "AA_outdir = 'alignments/1011Scer_allSpar_codon_alignments/AA_aligned_clean_sorted/'\n",
    "nuc_outdir = 'alignments/1011Scer_allSpar_codon_alignments/nuc_unaligned_clean_sorted/'\n",
    "\n",
    "for AA_file in os.listdir(AA_dir):\n",
    "\n",
    "    nuc_file = AA_file.replace('.muscle_afa', '.fna')\n",
    "    \n",
    "    if  not os.path.exists(nuc_dir+nuc_file):\n",
    "        continue\n",
    "    \n",
    "    nuc_dict =  SeqIO.to_dict(SeqIO.parse(nuc_dir+nuc_file,'fasta'))\n",
    "    to_write = ''\n",
    "    for record in sorted(nuc_dict):\n",
    "        \n",
    "        to_write += '>{}\\n{}\\n'.format(record, str(nuc_dict[record].seq))\n",
    "\n",
    "    nuc_out = open(nuc_outdir+nuc_file, 'w')\n",
    "    nuc_out.write(to_write)\n",
    "    nuc_out.close()\n",
    "\n",
    "    AA_dict =  SeqIO.to_dict(SeqIO.parse(AA_dir+AA_file,'fasta'))\n",
    "    to_write = ''\n",
    "    for record in sorted(AA_dict):\n",
    "        \n",
    "        to_write += '>{}\\n{}\\n'.format(record, str(AA_dict[record].seq))\n",
    "\n",
    "    AA_out = open(AA_outdir+AA_file, 'w')\n",
    "    AA_out.write(to_write)\n",
    "    AA_out.close()"
   ]
  },
  {
   "cell_type": "markdown",
   "id": "cutting-realtor",
   "metadata": {},
   "source": [
    "### Make codon alignments with PAL2NAL"
   ]
  },
  {
   "cell_type": "code",
   "execution_count": 2,
   "id": "public-chase",
   "metadata": {},
   "outputs": [],
   "source": [
    "#make codon alignments using pal2nal\n",
    "\n",
    "AA_aligned = 'alignments/1011Scer_allSpar_codon_alignments/AA_aligned_clean_sorted/'\n",
    "nuc_unaligned = 'alignments/1011Scer_allSpar_codon_alignments/nuc_unaligned_clean_sorted/'\n",
    "codon_aligned = 'alignments/1011Scer_allSpar_codon_alignments/codons_aligned/'\n",
    "log_file = 'alignments/1011Scer_allSpar_codon_alignments/pal2nal.log'\n",
    "\n",
    "for i, f in enumerate(os.listdir(AA_aligned)):\n",
    "    \n",
    "    if os.path.exists(codon_aligned + f.replace('.muscle_afa', '.pal2nal.fasta')):\n",
    "        continue\n",
    "    \n",
    "    if os.path.exists(nuc_unaligned+f.replace('.muscle_afa','.fna')):\n",
    "    \n",
    "        c = 'perl /Users/clairedubin/programs/pal2nal.v14/pal2nal.pl ' + AA_aligned+f + ' ' + nuc_unaligned+f.replace('.muscle_afa','.fna') + ' -output fasta -nogap > ' + codon_aligned + f.replace('.muscle_afa', '.pal2nal.fasta') + ' 2>' + log_file\n",
    "    \n",
    "        !{c}"
   ]
  }
 ],
 "metadata": {
  "kernelspec": {
   "display_name": "py3",
   "language": "python",
   "name": "py3"
  },
  "language_info": {
   "codemirror_mode": {
    "name": "ipython",
    "version": 3
   },
   "file_extension": ".py",
   "mimetype": "text/x-python",
   "name": "python",
   "nbconvert_exporter": "python",
   "pygments_lexer": "ipython3",
   "version": "3.8.5"
  }
 },
 "nbformat": 4,
 "nbformat_minor": 5
}
